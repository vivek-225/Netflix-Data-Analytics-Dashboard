{
 "cells": [
  {
   "cell_type": "code",
   "execution_count": 1,
   "id": "441de304-e0f1-4b8f-b2a7-694304432b77",
   "metadata": {},
   "outputs": [],
   "source": [
    "import numpy as np\n",
    "import pandas as pd\n"
   ]
  },
  {
   "cell_type": "code",
   "execution_count": 2,
   "id": "b4fd8a1a-a196-4221-8b07-14ef455eaffd",
   "metadata": {},
   "outputs": [],
   "source": [
    "df= pd.read_csv(\"netflix_titles.csv\")"
   ]
  },
  {
   "cell_type": "code",
   "execution_count": 6,
   "id": "92212941-79e7-4fc4-af87-169b6f1601b0",
   "metadata": {},
   "outputs": [
    {
     "data": {
      "text/html": [
       "<div>\n",
       "<style scoped>\n",
       "    .dataframe tbody tr th:only-of-type {\n",
       "        vertical-align: middle;\n",
       "    }\n",
       "\n",
       "    .dataframe tbody tr th {\n",
       "        vertical-align: top;\n",
       "    }\n",
       "\n",
       "    .dataframe thead th {\n",
       "        text-align: right;\n",
       "    }\n",
       "</style>\n",
       "<table border=\"1\" class=\"dataframe\">\n",
       "  <thead>\n",
       "    <tr style=\"text-align: right;\">\n",
       "      <th></th>\n",
       "      <th>show_id</th>\n",
       "      <th>type</th>\n",
       "      <th>title</th>\n",
       "      <th>director</th>\n",
       "      <th>cast</th>\n",
       "      <th>country</th>\n",
       "      <th>date_added</th>\n",
       "      <th>release_year</th>\n",
       "      <th>rating</th>\n",
       "      <th>duration</th>\n",
       "      <th>listed_in</th>\n",
       "      <th>description</th>\n",
       "    </tr>\n",
       "  </thead>\n",
       "  <tbody>\n",
       "    <tr>\n",
       "      <th>4031</th>\n",
       "      <td>s4032</td>\n",
       "      <td>Movie</td>\n",
       "      <td>Hajwala 2: Mysterious Mission</td>\n",
       "      <td>Ibrahim Bin Mohamed, Hasan Aljaberi</td>\n",
       "      <td>Hussain Al Hosani, Ali Almarzouqi, Abdullah Al...</td>\n",
       "      <td>United Arab Emirates</td>\n",
       "      <td>March 8, 2019</td>\n",
       "      <td>2018</td>\n",
       "      <td>TV-14</td>\n",
       "      <td>116 min</td>\n",
       "      <td>Action &amp; Adventure, Comedies, International Mo...</td>\n",
       "      <td>In this sequel, a group of expert drivers skil...</td>\n",
       "    </tr>\n",
       "    <tr>\n",
       "      <th>4065</th>\n",
       "      <td>s4066</td>\n",
       "      <td>Movie</td>\n",
       "      <td>The Spiderwick Chronicles</td>\n",
       "      <td>Mark Waters</td>\n",
       "      <td>Freddie Highmore, Mary-Louise Parker, Sarah Bo...</td>\n",
       "      <td>United States</td>\n",
       "      <td>March 1, 2019</td>\n",
       "      <td>2008</td>\n",
       "      <td>PG</td>\n",
       "      <td>97 min</td>\n",
       "      <td>Children &amp; Family Movies</td>\n",
       "      <td>When city-raised twins move to a tumbledown co...</td>\n",
       "    </tr>\n",
       "    <tr>\n",
       "      <th>7351</th>\n",
       "      <td>s7352</td>\n",
       "      <td>Movie</td>\n",
       "      <td>Love Station</td>\n",
       "      <td>Ahmad Samir Farag</td>\n",
       "      <td>Menna Shalaby, Sherif Salama, Yousra El Lozy, ...</td>\n",
       "      <td>Egypt</td>\n",
       "      <td>April 25, 2019</td>\n",
       "      <td>2011</td>\n",
       "      <td>TV-14</td>\n",
       "      <td>97 min</td>\n",
       "      <td>Comedies, International Movies, Romantic Movies</td>\n",
       "      <td>Single coworkers at a radio station are brough...</td>\n",
       "    </tr>\n",
       "    <tr>\n",
       "      <th>5158</th>\n",
       "      <td>s5159</td>\n",
       "      <td>Movie</td>\n",
       "      <td>Barbra: The Music ... The Mem'ries ... The Magic!</td>\n",
       "      <td>Barbra Streisand, Jim Gable</td>\n",
       "      <td>Barbra Streisand</td>\n",
       "      <td>United States</td>\n",
       "      <td>November 22, 2017</td>\n",
       "      <td>2017</td>\n",
       "      <td>TV-14</td>\n",
       "      <td>109 min</td>\n",
       "      <td>Music &amp; Musicals</td>\n",
       "      <td>Iconic songstress Barbra Streisand culminates ...</td>\n",
       "    </tr>\n",
       "    <tr>\n",
       "      <th>8254</th>\n",
       "      <td>s8255</td>\n",
       "      <td>Movie</td>\n",
       "      <td>The Congress</td>\n",
       "      <td>Ari Folman</td>\n",
       "      <td>Robin Wright, Harvey Keitel, Jon Hamm, Paul Gi...</td>\n",
       "      <td>Israel, Germany, Poland, Luxembourg, Belgium, ...</td>\n",
       "      <td>August 23, 2019</td>\n",
       "      <td>2013</td>\n",
       "      <td>TV-MA</td>\n",
       "      <td>123 min</td>\n",
       "      <td>Dramas, International Movies, Sci-Fi &amp; Fantasy</td>\n",
       "      <td>Actress Robin Wright plays herself in this sur...</td>\n",
       "    </tr>\n",
       "  </tbody>\n",
       "</table>\n",
       "</div>"
      ],
      "text/plain": [
       "     show_id   type                                              title  \\\n",
       "4031   s4032  Movie                      Hajwala 2: Mysterious Mission   \n",
       "4065   s4066  Movie                          The Spiderwick Chronicles   \n",
       "7351   s7352  Movie                                       Love Station   \n",
       "5158   s5159  Movie  Barbra: The Music ... The Mem'ries ... The Magic!   \n",
       "8254   s8255  Movie                                       The Congress   \n",
       "\n",
       "                                 director  \\\n",
       "4031  Ibrahim Bin Mohamed, Hasan Aljaberi   \n",
       "4065                          Mark Waters   \n",
       "7351                    Ahmad Samir Farag   \n",
       "5158          Barbra Streisand, Jim Gable   \n",
       "8254                           Ari Folman   \n",
       "\n",
       "                                                   cast  \\\n",
       "4031  Hussain Al Hosani, Ali Almarzouqi, Abdullah Al...   \n",
       "4065  Freddie Highmore, Mary-Louise Parker, Sarah Bo...   \n",
       "7351  Menna Shalaby, Sherif Salama, Yousra El Lozy, ...   \n",
       "5158                                   Barbra Streisand   \n",
       "8254  Robin Wright, Harvey Keitel, Jon Hamm, Paul Gi...   \n",
       "\n",
       "                                                country         date_added  \\\n",
       "4031                               United Arab Emirates      March 8, 2019   \n",
       "4065                                      United States      March 1, 2019   \n",
       "7351                                              Egypt     April 25, 2019   \n",
       "5158                                      United States  November 22, 2017   \n",
       "8254  Israel, Germany, Poland, Luxembourg, Belgium, ...    August 23, 2019   \n",
       "\n",
       "      release_year rating duration  \\\n",
       "4031          2018  TV-14  116 min   \n",
       "4065          2008     PG   97 min   \n",
       "7351          2011  TV-14   97 min   \n",
       "5158          2017  TV-14  109 min   \n",
       "8254          2013  TV-MA  123 min   \n",
       "\n",
       "                                              listed_in  \\\n",
       "4031  Action & Adventure, Comedies, International Mo...   \n",
       "4065                           Children & Family Movies   \n",
       "7351    Comedies, International Movies, Romantic Movies   \n",
       "5158                                   Music & Musicals   \n",
       "8254     Dramas, International Movies, Sci-Fi & Fantasy   \n",
       "\n",
       "                                            description  \n",
       "4031  In this sequel, a group of expert drivers skil...  \n",
       "4065  When city-raised twins move to a tumbledown co...  \n",
       "7351  Single coworkers at a radio station are brough...  \n",
       "5158  Iconic songstress Barbra Streisand culminates ...  \n",
       "8254  Actress Robin Wright plays herself in this sur...  "
      ]
     },
     "execution_count": 6,
     "metadata": {},
     "output_type": "execute_result"
    }
   ],
   "source": [
    "df.sample(5)"
   ]
  },
  {
   "cell_type": "code",
   "execution_count": 7,
   "id": "3806b8d3-fe70-48cd-ac6d-5dea4336a3ec",
   "metadata": {},
   "outputs": [],
   "source": [
    "df.drop([\"show_id\", \"description\"], axis=1, inplace=True)"
   ]
  },
  {
   "cell_type": "code",
   "execution_count": 8,
   "id": "3880b67d-e949-41ad-bba8-8edec20f8944",
   "metadata": {},
   "outputs": [
    {
     "data": {
      "text/html": [
       "<div>\n",
       "<style scoped>\n",
       "    .dataframe tbody tr th:only-of-type {\n",
       "        vertical-align: middle;\n",
       "    }\n",
       "\n",
       "    .dataframe tbody tr th {\n",
       "        vertical-align: top;\n",
       "    }\n",
       "\n",
       "    .dataframe thead th {\n",
       "        text-align: right;\n",
       "    }\n",
       "</style>\n",
       "<table border=\"1\" class=\"dataframe\">\n",
       "  <thead>\n",
       "    <tr style=\"text-align: right;\">\n",
       "      <th></th>\n",
       "      <th>type</th>\n",
       "      <th>title</th>\n",
       "      <th>director</th>\n",
       "      <th>cast</th>\n",
       "      <th>country</th>\n",
       "      <th>date_added</th>\n",
       "      <th>release_year</th>\n",
       "      <th>rating</th>\n",
       "      <th>duration</th>\n",
       "      <th>listed_in</th>\n",
       "    </tr>\n",
       "  </thead>\n",
       "  <tbody>\n",
       "    <tr>\n",
       "      <th>4925</th>\n",
       "      <td>TV Show</td>\n",
       "      <td>The Chalet</td>\n",
       "      <td>NaN</td>\n",
       "      <td>Chloé Lambert, Philippe Dusseau, Emilie de Pre...</td>\n",
       "      <td>France</td>\n",
       "      <td>April 17, 2018</td>\n",
       "      <td>2018</td>\n",
       "      <td>TV-MA</td>\n",
       "      <td>1 Season</td>\n",
       "      <td>Crime TV Shows, International TV Shows, TV Dramas</td>\n",
       "    </tr>\n",
       "    <tr>\n",
       "      <th>6581</th>\n",
       "      <td>Movie</td>\n",
       "      <td>Dear Dracula</td>\n",
       "      <td>Chad Van De Keere</td>\n",
       "      <td>Nathan Gamble, Ray Liotta, Emilio Estevez, Ari...</td>\n",
       "      <td>United States</td>\n",
       "      <td>February 18, 2016</td>\n",
       "      <td>2012</td>\n",
       "      <td>TV-Y7-FV</td>\n",
       "      <td>43 min</td>\n",
       "      <td>Children &amp; Family Movies, Comedies</td>\n",
       "    </tr>\n",
       "    <tr>\n",
       "      <th>3146</th>\n",
       "      <td>TV Show</td>\n",
       "      <td>Scooby-Doo!: Mystery Incorporated</td>\n",
       "      <td>NaN</td>\n",
       "      <td>Frank Welker, Mindy Cohn, Grey DeLisle, Matthe...</td>\n",
       "      <td>United States</td>\n",
       "      <td>December 15, 2019</td>\n",
       "      <td>2012</td>\n",
       "      <td>TV-Y7</td>\n",
       "      <td>2 Seasons</td>\n",
       "      <td>Kids' TV, TV Comedies</td>\n",
       "    </tr>\n",
       "    <tr>\n",
       "      <th>5181</th>\n",
       "      <td>Movie</td>\n",
       "      <td>The Journey Is the Destination</td>\n",
       "      <td>Bronwen Hughes</td>\n",
       "      <td>Ben Schnetzer, Kelly Macdonald, Sam Hazeldine,...</td>\n",
       "      <td>United States</td>\n",
       "      <td>November 7, 2017</td>\n",
       "      <td>2016</td>\n",
       "      <td>R</td>\n",
       "      <td>123 min</td>\n",
       "      <td>Dramas</td>\n",
       "    </tr>\n",
       "    <tr>\n",
       "      <th>4573</th>\n",
       "      <td>Movie</td>\n",
       "      <td>Jodhaa Akbar</td>\n",
       "      <td>Ashutosh Gowariker</td>\n",
       "      <td>Hrithik Roshan, Aishwarya Rai Bachchan, Sonu S...</td>\n",
       "      <td>India</td>\n",
       "      <td>October 1, 2018</td>\n",
       "      <td>2008</td>\n",
       "      <td>TV-14</td>\n",
       "      <td>214 min</td>\n",
       "      <td>Action &amp; Adventure, Dramas, International Movies</td>\n",
       "    </tr>\n",
       "  </tbody>\n",
       "</table>\n",
       "</div>"
      ],
      "text/plain": [
       "         type                              title            director  \\\n",
       "4925  TV Show                         The Chalet                 NaN   \n",
       "6581    Movie                       Dear Dracula   Chad Van De Keere   \n",
       "3146  TV Show  Scooby-Doo!: Mystery Incorporated                 NaN   \n",
       "5181    Movie     The Journey Is the Destination      Bronwen Hughes   \n",
       "4573    Movie                       Jodhaa Akbar  Ashutosh Gowariker   \n",
       "\n",
       "                                                   cast        country  \\\n",
       "4925  Chloé Lambert, Philippe Dusseau, Emilie de Pre...         France   \n",
       "6581  Nathan Gamble, Ray Liotta, Emilio Estevez, Ari...  United States   \n",
       "3146  Frank Welker, Mindy Cohn, Grey DeLisle, Matthe...  United States   \n",
       "5181  Ben Schnetzer, Kelly Macdonald, Sam Hazeldine,...  United States   \n",
       "4573  Hrithik Roshan, Aishwarya Rai Bachchan, Sonu S...          India   \n",
       "\n",
       "             date_added  release_year    rating   duration  \\\n",
       "4925     April 17, 2018          2018     TV-MA   1 Season   \n",
       "6581  February 18, 2016          2012  TV-Y7-FV     43 min   \n",
       "3146  December 15, 2019          2012     TV-Y7  2 Seasons   \n",
       "5181   November 7, 2017          2016         R    123 min   \n",
       "4573    October 1, 2018          2008     TV-14    214 min   \n",
       "\n",
       "                                              listed_in  \n",
       "4925  Crime TV Shows, International TV Shows, TV Dramas  \n",
       "6581                 Children & Family Movies, Comedies  \n",
       "3146                              Kids' TV, TV Comedies  \n",
       "5181                                             Dramas  \n",
       "4573   Action & Adventure, Dramas, International Movies  "
      ]
     },
     "execution_count": 8,
     "metadata": {},
     "output_type": "execute_result"
    }
   ],
   "source": [
    "df.sample(5)"
   ]
  },
  {
   "cell_type": "code",
   "execution_count": 10,
   "id": "801b6630-4972-4430-ace1-6c78f9581af3",
   "metadata": {},
   "outputs": [
    {
     "data": {
      "text/plain": [
       "(8807, 10)"
      ]
     },
     "execution_count": 10,
     "metadata": {},
     "output_type": "execute_result"
    }
   ],
   "source": [
    "df.shape"
   ]
  },
  {
   "cell_type": "code",
   "execution_count": 11,
   "id": "1af30f85-0bb3-4fb0-9367-5895168927d2",
   "metadata": {},
   "outputs": [
    {
     "data": {
      "text/plain": [
       "88070"
      ]
     },
     "execution_count": 11,
     "metadata": {},
     "output_type": "execute_result"
    }
   ],
   "source": [
    "df.size"
   ]
  },
  {
   "cell_type": "code",
   "execution_count": 12,
   "id": "a5c17ba3-5dfb-4acc-8762-cf6d891a13b1",
   "metadata": {},
   "outputs": [
    {
     "data": {
      "text/plain": [
       "RangeIndex(start=0, stop=8807, step=1)"
      ]
     },
     "execution_count": 12,
     "metadata": {},
     "output_type": "execute_result"
    }
   ],
   "source": [
    "df.index"
   ]
  },
  {
   "cell_type": "code",
   "execution_count": 14,
   "id": "87c6f413-bfbb-4780-95f3-197b06cf718f",
   "metadata": {},
   "outputs": [
    {
     "data": {
      "text/plain": [
       "Index(['type', 'title', 'director', 'cast', 'country', 'date_added',\n",
       "       'release_year', 'rating', 'duration', 'listed_in'],\n",
       "      dtype='object')"
      ]
     },
     "execution_count": 14,
     "metadata": {},
     "output_type": "execute_result"
    }
   ],
   "source": [
    "df.columns"
   ]
  },
  {
   "cell_type": "code",
   "execution_count": 15,
   "id": "0e299e3f-9bae-447f-ac27-a1c7d7dc27a8",
   "metadata": {},
   "outputs": [
    {
     "data": {
      "text/plain": [
       "<bound method DataFrame.info of          type                  title         director  \\\n",
       "0       Movie   Dick Johnson Is Dead  Kirsten Johnson   \n",
       "1     TV Show          Blood & Water              NaN   \n",
       "2     TV Show              Ganglands  Julien Leclercq   \n",
       "3     TV Show  Jailbirds New Orleans              NaN   \n",
       "4     TV Show           Kota Factory              NaN   \n",
       "...       ...                    ...              ...   \n",
       "8802    Movie                 Zodiac    David Fincher   \n",
       "8803  TV Show            Zombie Dumb              NaN   \n",
       "8804    Movie             Zombieland  Ruben Fleischer   \n",
       "8805    Movie                   Zoom     Peter Hewitt   \n",
       "8806    Movie                 Zubaan      Mozez Singh   \n",
       "\n",
       "                                                   cast        country  \\\n",
       "0                                                   NaN  United States   \n",
       "1     Ama Qamata, Khosi Ngema, Gail Mabalane, Thaban...   South Africa   \n",
       "2     Sami Bouajila, Tracy Gotoas, Samuel Jouy, Nabi...            NaN   \n",
       "3                                                   NaN            NaN   \n",
       "4     Mayur More, Jitendra Kumar, Ranjan Raj, Alam K...          India   \n",
       "...                                                 ...            ...   \n",
       "8802  Mark Ruffalo, Jake Gyllenhaal, Robert Downey J...  United States   \n",
       "8803                                                NaN            NaN   \n",
       "8804  Jesse Eisenberg, Woody Harrelson, Emma Stone, ...  United States   \n",
       "8805  Tim Allen, Courteney Cox, Chevy Chase, Kate Ma...  United States   \n",
       "8806  Vicky Kaushal, Sarah-Jane Dias, Raaghav Chanan...          India   \n",
       "\n",
       "              date_added  release_year rating   duration  \\\n",
       "0     September 25, 2021          2020  PG-13     90 min   \n",
       "1     September 24, 2021          2021  TV-MA  2 Seasons   \n",
       "2     September 24, 2021          2021  TV-MA   1 Season   \n",
       "3     September 24, 2021          2021  TV-MA   1 Season   \n",
       "4     September 24, 2021          2021  TV-MA  2 Seasons   \n",
       "...                  ...           ...    ...        ...   \n",
       "8802   November 20, 2019          2007      R    158 min   \n",
       "8803        July 1, 2019          2018  TV-Y7  2 Seasons   \n",
       "8804    November 1, 2019          2009      R     88 min   \n",
       "8805    January 11, 2020          2006     PG     88 min   \n",
       "8806       March 2, 2019          2015  TV-14    111 min   \n",
       "\n",
       "                                              listed_in  \n",
       "0                                         Documentaries  \n",
       "1       International TV Shows, TV Dramas, TV Mysteries  \n",
       "2     Crime TV Shows, International TV Shows, TV Act...  \n",
       "3                                Docuseries, Reality TV  \n",
       "4     International TV Shows, Romantic TV Shows, TV ...  \n",
       "...                                                 ...  \n",
       "8802                     Cult Movies, Dramas, Thrillers  \n",
       "8803             Kids' TV, Korean TV Shows, TV Comedies  \n",
       "8804                            Comedies, Horror Movies  \n",
       "8805                 Children & Family Movies, Comedies  \n",
       "8806     Dramas, International Movies, Music & Musicals  \n",
       "\n",
       "[8807 rows x 10 columns]>"
      ]
     },
     "execution_count": 15,
     "metadata": {},
     "output_type": "execute_result"
    }
   ],
   "source": [
    "df.info"
   ]
  },
  {
   "cell_type": "code",
   "execution_count": 16,
   "id": "4b271d64-841c-4de0-b37e-9dbce63e88d1",
   "metadata": {},
   "outputs": [
    {
     "data": {
      "text/plain": [
       "type               0\n",
       "title              0\n",
       "director        2634\n",
       "cast             825\n",
       "country          831\n",
       "date_added        10\n",
       "release_year       0\n",
       "rating             4\n",
       "duration           3\n",
       "listed_in          0\n",
       "dtype: int64"
      ]
     },
     "execution_count": 16,
     "metadata": {},
     "output_type": "execute_result"
    }
   ],
   "source": [
    "df.isnull().sum()"
   ]
  },
  {
   "cell_type": "code",
   "execution_count": 20,
   "id": "f890aec8-7d34-4cf1-b0bb-dabeef8bd9e5",
   "metadata": {},
   "outputs": [
    {
     "data": {
      "text/plain": [
       "country\n",
       "United States     2818\n",
       "India              972\n",
       "United Kingdom     419\n",
       "Name: count, dtype: int64"
      ]
     },
     "execution_count": 20,
     "metadata": {},
     "output_type": "execute_result"
    }
   ],
   "source": [
    "df[\"country\"].value_counts().head(3)"
   ]
  },
  {
   "cell_type": "code",
   "execution_count": 28,
   "id": "6cb28676-2314-4b85-bb9e-ef0f44430f42",
   "metadata": {},
   "outputs": [],
   "source": [
    "mode_country=df[\"country\"].mode()[0]\n",
    "df[\"country\"]=df[\"country\"].fillna(mode_country)"
   ]
  },
  {
   "cell_type": "code",
   "execution_count": 29,
   "id": "a39bbbc0-4a88-49f7-afe9-057f334e257c",
   "metadata": {},
   "outputs": [
    {
     "data": {
      "text/plain": [
       "type               0\n",
       "title              0\n",
       "director        2634\n",
       "cast             825\n",
       "country            0\n",
       "date_added        10\n",
       "release_year       0\n",
       "rating             4\n",
       "duration           3\n",
       "listed_in          0\n",
       "dtype: int64"
      ]
     },
     "execution_count": 29,
     "metadata": {},
     "output_type": "execute_result"
    }
   ],
   "source": [
    "df.isnull().sum()"
   ]
  },
  {
   "cell_type": "code",
   "execution_count": 30,
   "id": "1f463647-ecb8-4c80-999e-c91cb37ac683",
   "metadata": {},
   "outputs": [
    {
     "data": {
      "text/plain": [
       "np.int64(0)"
      ]
     },
     "execution_count": 30,
     "metadata": {},
     "output_type": "execute_result"
    }
   ],
   "source": [
    "df[\"country\"].isnull().sum()"
   ]
  },
  {
   "cell_type": "code",
   "execution_count": 31,
   "id": "4ed552ca-99d5-4ac6-9432-9d0ef3a02e91",
   "metadata": {},
   "outputs": [
    {
     "data": {
      "text/plain": [
       "date_added\n",
       "January 1, 2020     109\n",
       "November 1, 2019     89\n",
       "March 1, 2018        75\n",
       "Name: count, dtype: int64"
      ]
     },
     "execution_count": 31,
     "metadata": {},
     "output_type": "execute_result"
    }
   ],
   "source": [
    "df[\"date_added\"].value_counts().head(3)"
   ]
  },
  {
   "cell_type": "code",
   "execution_count": 33,
   "id": "2261f5a4-a12d-44bc-a76e-216a54b6e2a5",
   "metadata": {},
   "outputs": [],
   "source": [
    "mode_date=df[\"date_added\"].mode()[0]\n",
    "df[\"date_added\"]=df[\"date_added\"].fillna(mode_date)"
   ]
  },
  {
   "cell_type": "code",
   "execution_count": 34,
   "id": "3ba7feff-a4df-4c72-85f0-4462baa246be",
   "metadata": {},
   "outputs": [
    {
     "data": {
      "text/plain": [
       "np.int64(0)"
      ]
     },
     "execution_count": 34,
     "metadata": {},
     "output_type": "execute_result"
    }
   ],
   "source": [
    "df[\"date_added\"].isnull().sum()"
   ]
  },
  {
   "cell_type": "code",
   "execution_count": 36,
   "id": "91b52295-cc3d-49a2-b458-54b48706ee3d",
   "metadata": {},
   "outputs": [],
   "source": [
    "mode_rating= df[\"rating\"].mode()[0]"
   ]
  },
  {
   "cell_type": "code",
   "execution_count": 38,
   "id": "272f48c2-0e45-4aa2-8a48-d43a24286f51",
   "metadata": {},
   "outputs": [],
   "source": [
    "df[\"rating\"]=df[\"rating\"].fillna(mode_rating)"
   ]
  },
  {
   "cell_type": "code",
   "execution_count": 39,
   "id": "706e9b57-808b-4904-8267-93c354a440b5",
   "metadata": {},
   "outputs": [
    {
     "data": {
      "text/plain": [
       "np.int64(0)"
      ]
     },
     "execution_count": 39,
     "metadata": {},
     "output_type": "execute_result"
    }
   ],
   "source": [
    "df['rating'].isnull().sum()"
   ]
  },
  {
   "cell_type": "code",
   "execution_count": 44,
   "id": "cc3c5c28-5024-41f2-82fa-2555f32869aa",
   "metadata": {},
   "outputs": [
    {
     "data": {
      "text/plain": [
       "type               0\n",
       "title              0\n",
       "director        2634\n",
       "cast             825\n",
       "country            0\n",
       "date_added         0\n",
       "release_year       0\n",
       "rating             0\n",
       "duration           0\n",
       "listed_in          0\n",
       "dtype: int64"
      ]
     },
     "execution_count": 44,
     "metadata": {},
     "output_type": "execute_result"
    }
   ],
   "source": [
    "df.isnull().sum()"
   ]
  },
  {
   "cell_type": "code",
   "execution_count": 41,
   "id": "d02df5ad-0b88-4816-8eb8-afae705f7549",
   "metadata": {},
   "outputs": [],
   "source": [
    "mode_duration= df[\"duration\"].mode()[0]"
   ]
  },
  {
   "cell_type": "code",
   "execution_count": 42,
   "id": "49fe6fab-5e2d-401c-94a7-c43ba4d1c8e2",
   "metadata": {},
   "outputs": [],
   "source": [
    "df[\"duration\"]=df[\"duration\"].fillna(mode_duration)"
   ]
  },
  {
   "cell_type": "code",
   "execution_count": 43,
   "id": "78a4ca9a-3c74-49e5-86a3-f28090ffac96",
   "metadata": {},
   "outputs": [
    {
     "data": {
      "text/plain": [
       "np.int64(0)"
      ]
     },
     "execution_count": 43,
     "metadata": {},
     "output_type": "execute_result"
    }
   ],
   "source": [
    "df['duration'].isnull().sum()"
   ]
  },
  {
   "cell_type": "code",
   "execution_count": 45,
   "id": "46bd7956-4f23-4cc3-a23a-f1730bfb0b9e",
   "metadata": {},
   "outputs": [],
   "source": [
    "df[\"director\"]=df[\"director\"].fillna(\"Not Mention\")"
   ]
  },
  {
   "cell_type": "code",
   "execution_count": 46,
   "id": "c2011eb7-7250-429c-b3cf-7c0507f45c93",
   "metadata": {},
   "outputs": [
    {
     "data": {
      "text/plain": [
       "np.int64(0)"
      ]
     },
     "execution_count": 46,
     "metadata": {},
     "output_type": "execute_result"
    }
   ],
   "source": [
    "df['director'].isnull().sum()"
   ]
  },
  {
   "cell_type": "code",
   "execution_count": 47,
   "id": "5a906f83-7ef7-4e46-9847-b925f4b20ec9",
   "metadata": {},
   "outputs": [
    {
     "data": {
      "text/plain": [
       "type              0\n",
       "title             0\n",
       "director          0\n",
       "cast            825\n",
       "country           0\n",
       "date_added        0\n",
       "release_year      0\n",
       "rating            0\n",
       "duration          0\n",
       "listed_in         0\n",
       "dtype: int64"
      ]
     },
     "execution_count": 47,
     "metadata": {},
     "output_type": "execute_result"
    }
   ],
   "source": [
    "df.isnull().sum()"
   ]
  },
  {
   "cell_type": "code",
   "execution_count": 49,
   "id": "96482df1-2da6-4ca4-be68-c82530ff3871",
   "metadata": {},
   "outputs": [],
   "source": [
    "df['cast']=df['cast'].fillna(\"Not Mention\")"
   ]
  },
  {
   "cell_type": "code",
   "execution_count": 50,
   "id": "697730e7-61dd-4aea-8df2-d00410832cf7",
   "metadata": {},
   "outputs": [
    {
     "data": {
      "text/plain": [
       "type            0\n",
       "title           0\n",
       "director        0\n",
       "cast            0\n",
       "country         0\n",
       "date_added      0\n",
       "release_year    0\n",
       "rating          0\n",
       "duration        0\n",
       "listed_in       0\n",
       "dtype: int64"
      ]
     },
     "execution_count": 50,
     "metadata": {},
     "output_type": "execute_result"
    }
   ],
   "source": [
    "df.isnull().sum()"
   ]
  },
  {
   "cell_type": "code",
   "execution_count": 51,
   "id": "8819da61-b5bc-4fcc-a2ec-1f66e126d54b",
   "metadata": {},
   "outputs": [
    {
     "data": {
      "text/plain": [
       "array(['PG-13', 'TV-MA', 'PG', 'TV-14', 'TV-PG', 'TV-Y', 'TV-Y7', 'R',\n",
       "       'TV-G', 'G', 'NC-17', '74 min', '84 min', '66 min', 'NR',\n",
       "       'TV-Y7-FV', 'UR'], dtype=object)"
      ]
     },
     "execution_count": 51,
     "metadata": {},
     "output_type": "execute_result"
    }
   ],
   "source": [
    "df[\"rating\"].unique()"
   ]
  },
  {
   "cell_type": "code",
   "execution_count": 54,
   "id": "78b55f6e-f7d4-487e-8f49-7cee6ab63e57",
   "metadata": {},
   "outputs": [],
   "source": [
    "df=df[~df[\"rating\"].str.contains(\"min\")]"
   ]
  },
  {
   "cell_type": "code",
   "execution_count": 55,
   "id": "63b2ccda-d89e-4f89-83d8-b5116347eb34",
   "metadata": {},
   "outputs": [
    {
     "data": {
      "text/plain": [
       "array(['PG-13', 'TV-MA', 'PG', 'TV-14', 'TV-PG', 'TV-Y', 'TV-Y7', 'R',\n",
       "       'TV-G', 'G', 'NC-17', 'NR', 'TV-Y7-FV', 'UR'], dtype=object)"
      ]
     },
     "execution_count": 55,
     "metadata": {},
     "output_type": "execute_result"
    }
   ],
   "source": [
    "df[\"rating\"].unique()"
   ]
  },
  {
   "cell_type": "code",
   "execution_count": 56,
   "id": "795f2d13-7faf-46ee-bbde-e8ee44547270",
   "metadata": {},
   "outputs": [
    {
     "data": {
      "text/plain": [
       "array(['September 25, 2021', 'September 24, 2021', 'September 23, 2021',\n",
       "       ..., 'December 6, 2018', 'March 9, 2016', 'January 11, 2020'],\n",
       "      dtype=object)"
      ]
     },
     "execution_count": 56,
     "metadata": {},
     "output_type": "execute_result"
    }
   ],
   "source": [
    "df[\"date_added\"].unique()"
   ]
  },
  {
   "cell_type": "code",
   "execution_count": 57,
   "id": "313690ae-fe7b-4072-9ec6-446570136d4d",
   "metadata": {},
   "outputs": [
    {
     "name": "stderr",
     "output_type": "stream",
     "text": [
      "C:\\Users\\vivek\\AppData\\Local\\Temp\\ipykernel_10724\\2649166716.py:1: SettingWithCopyWarning: \n",
      "A value is trying to be set on a copy of a slice from a DataFrame.\n",
      "Try using .loc[row_indexer,col_indexer] = value instead\n",
      "\n",
      "See the caveats in the documentation: https://pandas.pydata.org/pandas-docs/stable/user_guide/indexing.html#returning-a-view-versus-a-copy\n",
      "  df[\"date_added\"]=df[\"date_added\"].str.replace(\",\",\"\")\n"
     ]
    }
   ],
   "source": [
    "df[\"date_added\"]=df[\"date_added\"].str.replace(\",\",\"\")"
   ]
  },
  {
   "cell_type": "code",
   "execution_count": 58,
   "id": "1f7bd12a-81a1-4361-b285-8dc7c8626a14",
   "metadata": {},
   "outputs": [
    {
     "data": {
      "text/plain": [
       "array(['September 25 2021', 'September 24 2021', 'September 23 2021', ...,\n",
       "       'December 6 2018', 'March 9 2016', 'January 11 2020'], dtype=object)"
      ]
     },
     "execution_count": 58,
     "metadata": {},
     "output_type": "execute_result"
    }
   ],
   "source": [
    "df[\"date_added\"].unique()"
   ]
  },
  {
   "cell_type": "code",
   "execution_count": 59,
   "id": "b6ceb638-7c05-4d20-9d6f-7d49847019d5",
   "metadata": {},
   "outputs": [
    {
     "data": {
      "text/plain": [
       "<bound method DataFrame.info of          type                  title         director  \\\n",
       "0       Movie   Dick Johnson Is Dead  Kirsten Johnson   \n",
       "1     TV Show          Blood & Water      Not Mention   \n",
       "2     TV Show              Ganglands  Julien Leclercq   \n",
       "3     TV Show  Jailbirds New Orleans      Not Mention   \n",
       "4     TV Show           Kota Factory      Not Mention   \n",
       "...       ...                    ...              ...   \n",
       "8802    Movie                 Zodiac    David Fincher   \n",
       "8803  TV Show            Zombie Dumb      Not Mention   \n",
       "8804    Movie             Zombieland  Ruben Fleischer   \n",
       "8805    Movie                   Zoom     Peter Hewitt   \n",
       "8806    Movie                 Zubaan      Mozez Singh   \n",
       "\n",
       "                                                   cast        country  \\\n",
       "0                                           Not Mention  United States   \n",
       "1     Ama Qamata, Khosi Ngema, Gail Mabalane, Thaban...   South Africa   \n",
       "2     Sami Bouajila, Tracy Gotoas, Samuel Jouy, Nabi...  United States   \n",
       "3                                           Not Mention  United States   \n",
       "4     Mayur More, Jitendra Kumar, Ranjan Raj, Alam K...          India   \n",
       "...                                                 ...            ...   \n",
       "8802  Mark Ruffalo, Jake Gyllenhaal, Robert Downey J...  United States   \n",
       "8803                                        Not Mention  United States   \n",
       "8804  Jesse Eisenberg, Woody Harrelson, Emma Stone, ...  United States   \n",
       "8805  Tim Allen, Courteney Cox, Chevy Chase, Kate Ma...  United States   \n",
       "8806  Vicky Kaushal, Sarah-Jane Dias, Raaghav Chanan...          India   \n",
       "\n",
       "             date_added  release_year rating   duration  \\\n",
       "0     September 25 2021          2020  PG-13     90 min   \n",
       "1     September 24 2021          2021  TV-MA  2 Seasons   \n",
       "2     September 24 2021          2021  TV-MA   1 Season   \n",
       "3     September 24 2021          2021  TV-MA   1 Season   \n",
       "4     September 24 2021          2021  TV-MA  2 Seasons   \n",
       "...                 ...           ...    ...        ...   \n",
       "8802   November 20 2019          2007      R    158 min   \n",
       "8803        July 1 2019          2018  TV-Y7  2 Seasons   \n",
       "8804    November 1 2019          2009      R     88 min   \n",
       "8805    January 11 2020          2006     PG     88 min   \n",
       "8806       March 2 2019          2015  TV-14    111 min   \n",
       "\n",
       "                                              listed_in  \n",
       "0                                         Documentaries  \n",
       "1       International TV Shows, TV Dramas, TV Mysteries  \n",
       "2     Crime TV Shows, International TV Shows, TV Act...  \n",
       "3                                Docuseries, Reality TV  \n",
       "4     International TV Shows, Romantic TV Shows, TV ...  \n",
       "...                                                 ...  \n",
       "8802                     Cult Movies, Dramas, Thrillers  \n",
       "8803             Kids' TV, Korean TV Shows, TV Comedies  \n",
       "8804                            Comedies, Horror Movies  \n",
       "8805                 Children & Family Movies, Comedies  \n",
       "8806     Dramas, International Movies, Music & Musicals  \n",
       "\n",
       "[8804 rows x 10 columns]>"
      ]
     },
     "execution_count": 59,
     "metadata": {},
     "output_type": "execute_result"
    }
   ],
   "source": [
    "df.info"
   ]
  },
  {
   "cell_type": "code",
   "execution_count": 60,
   "id": "235e70b5-90f7-4cc7-b660-aa1b51d2339e",
   "metadata": {},
   "outputs": [
    {
     "data": {
      "text/html": [
       "<div>\n",
       "<style scoped>\n",
       "    .dataframe tbody tr th:only-of-type {\n",
       "        vertical-align: middle;\n",
       "    }\n",
       "\n",
       "    .dataframe tbody tr th {\n",
       "        vertical-align: top;\n",
       "    }\n",
       "\n",
       "    .dataframe thead th {\n",
       "        text-align: right;\n",
       "    }\n",
       "</style>\n",
       "<table border=\"1\" class=\"dataframe\">\n",
       "  <thead>\n",
       "    <tr style=\"text-align: right;\">\n",
       "      <th></th>\n",
       "      <th>type</th>\n",
       "      <th>title</th>\n",
       "      <th>director</th>\n",
       "      <th>cast</th>\n",
       "      <th>country</th>\n",
       "      <th>date_added</th>\n",
       "      <th>release_year</th>\n",
       "      <th>rating</th>\n",
       "      <th>duration</th>\n",
       "      <th>listed_in</th>\n",
       "    </tr>\n",
       "  </thead>\n",
       "  <tbody>\n",
       "    <tr>\n",
       "      <th>398</th>\n",
       "      <td>Movie</td>\n",
       "      <td>Kingdom: Ashin of the North</td>\n",
       "      <td>Kim Seong-hun</td>\n",
       "      <td>Gianna Jun, Park Byung-eun, Kim Si-a, Kim Roi-...</td>\n",
       "      <td>United States</td>\n",
       "      <td>July 23 2021</td>\n",
       "      <td>2021</td>\n",
       "      <td>TV-MA</td>\n",
       "      <td>94 min</td>\n",
       "      <td>Horror Movies, International Movies, Thrillers</td>\n",
       "    </tr>\n",
       "    <tr>\n",
       "      <th>2102</th>\n",
       "      <td>TV Show</td>\n",
       "      <td>Ojos in d' House</td>\n",
       "      <td>Not Mention</td>\n",
       "      <td>'Najite Dede, Jude Chukwuka, Taiwo Arimoro, Od...</td>\n",
       "      <td>Nigeria</td>\n",
       "      <td>August 22 2020</td>\n",
       "      <td>2013</td>\n",
       "      <td>TV-G</td>\n",
       "      <td>1 Season</td>\n",
       "      <td>International TV Shows, TV Comedies</td>\n",
       "    </tr>\n",
       "    <tr>\n",
       "      <th>5629</th>\n",
       "      <td>Movie</td>\n",
       "      <td>Pink</td>\n",
       "      <td>Aniruddha Roy Chowdhury</td>\n",
       "      <td>Tapsee Pannu, Kirti Kulhari, Andrea Tariang, A...</td>\n",
       "      <td>India</td>\n",
       "      <td>January 20 2017</td>\n",
       "      <td>2016</td>\n",
       "      <td>TV-14</td>\n",
       "      <td>130 min</td>\n",
       "      <td>Dramas, International Movies</td>\n",
       "    </tr>\n",
       "    <tr>\n",
       "      <th>7567</th>\n",
       "      <td>Movie</td>\n",
       "      <td>Natural Selection</td>\n",
       "      <td>Chad L. Scheifele</td>\n",
       "      <td>Mason Dye, Ryan Munzert, Anthony Michael Hall,...</td>\n",
       "      <td>United States</td>\n",
       "      <td>December 1 2016</td>\n",
       "      <td>2015</td>\n",
       "      <td>R</td>\n",
       "      <td>101 min</td>\n",
       "      <td>Dramas, Independent Movies</td>\n",
       "    </tr>\n",
       "    <tr>\n",
       "      <th>551</th>\n",
       "      <td>Movie</td>\n",
       "      <td>Haseen Dillruba</td>\n",
       "      <td>Vinil Mathew</td>\n",
       "      <td>Taapsee Pannu, Vikrant Massey, Harshvardhan Ra...</td>\n",
       "      <td>India</td>\n",
       "      <td>July 2 2021</td>\n",
       "      <td>2021</td>\n",
       "      <td>TV-MA</td>\n",
       "      <td>136 min</td>\n",
       "      <td>International Movies, Romantic Movies, Thrillers</td>\n",
       "    </tr>\n",
       "  </tbody>\n",
       "</table>\n",
       "</div>"
      ],
      "text/plain": [
       "         type                        title                 director  \\\n",
       "398     Movie  Kingdom: Ashin of the North            Kim Seong-hun   \n",
       "2102  TV Show             Ojos in d' House              Not Mention   \n",
       "5629    Movie                         Pink  Aniruddha Roy Chowdhury   \n",
       "7567    Movie            Natural Selection        Chad L. Scheifele   \n",
       "551     Movie              Haseen Dillruba             Vinil Mathew   \n",
       "\n",
       "                                                   cast        country  \\\n",
       "398   Gianna Jun, Park Byung-eun, Kim Si-a, Kim Roi-...  United States   \n",
       "2102  'Najite Dede, Jude Chukwuka, Taiwo Arimoro, Od...        Nigeria   \n",
       "5629  Tapsee Pannu, Kirti Kulhari, Andrea Tariang, A...          India   \n",
       "7567  Mason Dye, Ryan Munzert, Anthony Michael Hall,...  United States   \n",
       "551   Taapsee Pannu, Vikrant Massey, Harshvardhan Ra...          India   \n",
       "\n",
       "           date_added  release_year rating  duration  \\\n",
       "398      July 23 2021          2021  TV-MA    94 min   \n",
       "2102   August 22 2020          2013   TV-G  1 Season   \n",
       "5629  January 20 2017          2016  TV-14   130 min   \n",
       "7567  December 1 2016          2015      R   101 min   \n",
       "551       July 2 2021          2021  TV-MA   136 min   \n",
       "\n",
       "                                             listed_in  \n",
       "398     Horror Movies, International Movies, Thrillers  \n",
       "2102               International TV Shows, TV Comedies  \n",
       "5629                      Dramas, International Movies  \n",
       "7567                        Dramas, Independent Movies  \n",
       "551   International Movies, Romantic Movies, Thrillers  "
      ]
     },
     "execution_count": 60,
     "metadata": {},
     "output_type": "execute_result"
    }
   ],
   "source": [
    "df.sample(5)"
   ]
  },
  {
   "cell_type": "code",
   "execution_count": 64,
   "id": "38df33b3-b69e-4cf0-8a7a-765e8008b5dd",
   "metadata": {},
   "outputs": [
    {
     "name": "stderr",
     "output_type": "stream",
     "text": [
      "C:\\Users\\vivek\\AppData\\Local\\Temp\\ipykernel_10724\\498004367.py:1: SettingWithCopyWarning: \n",
      "A value is trying to be set on a copy of a slice from a DataFrame.\n",
      "Try using .loc[row_indexer,col_indexer] = value instead\n",
      "\n",
      "See the caveats in the documentation: https://pandas.pydata.org/pandas-docs/stable/user_guide/indexing.html#returning-a-view-versus-a-copy\n",
      "  df[\"date_added\"] = pd.to_datetime(df[\"date_added\"], format=\"mixed\")\n"
     ]
    }
   ],
   "source": [
    "df[\"date_added\"] = pd.to_datetime(df[\"date_added\"], format=\"mixed\")"
   ]
  },
  {
   "cell_type": "code",
   "execution_count": 65,
   "id": "04c3850b-36fa-4c64-b595-ec667d6dfaa1",
   "metadata": {},
   "outputs": [
    {
     "name": "stderr",
     "output_type": "stream",
     "text": [
      "C:\\Users\\vivek\\AppData\\Local\\Temp\\ipykernel_10724\\1025263937.py:1: SettingWithCopyWarning: \n",
      "A value is trying to be set on a copy of a slice from a DataFrame.\n",
      "Try using .loc[row_indexer,col_indexer] = value instead\n",
      "\n",
      "See the caveats in the documentation: https://pandas.pydata.org/pandas-docs/stable/user_guide/indexing.html#returning-a-view-versus-a-copy\n",
      "  df[\"year\"]=df[\"date_added\"].dt.year\n"
     ]
    }
   ],
   "source": [
    "df[\"year\"]=df[\"date_added\"].dt.year"
   ]
  },
  {
   "cell_type": "code",
   "execution_count": 66,
   "id": "f7595def-2145-4085-932e-cda67a52b605",
   "metadata": {},
   "outputs": [
    {
     "name": "stderr",
     "output_type": "stream",
     "text": [
      "C:\\Users\\vivek\\AppData\\Local\\Temp\\ipykernel_10724\\3979572428.py:1: SettingWithCopyWarning: \n",
      "A value is trying to be set on a copy of a slice from a DataFrame.\n",
      "Try using .loc[row_indexer,col_indexer] = value instead\n",
      "\n",
      "See the caveats in the documentation: https://pandas.pydata.org/pandas-docs/stable/user_guide/indexing.html#returning-a-view-versus-a-copy\n",
      "  df[\"month\"]=df[\"date_added\"].dt.month_name()\n"
     ]
    }
   ],
   "source": [
    "df[\"month\"]=df[\"date_added\"].dt.month_name()"
   ]
  },
  {
   "cell_type": "code",
   "execution_count": 67,
   "id": "902c2b0d-1799-4441-b157-1fbee74627ad",
   "metadata": {},
   "outputs": [
    {
     "name": "stderr",
     "output_type": "stream",
     "text": [
      "C:\\Users\\vivek\\AppData\\Local\\Temp\\ipykernel_10724\\1841610673.py:1: SettingWithCopyWarning: \n",
      "A value is trying to be set on a copy of a slice from a DataFrame.\n",
      "Try using .loc[row_indexer,col_indexer] = value instead\n",
      "\n",
      "See the caveats in the documentation: https://pandas.pydata.org/pandas-docs/stable/user_guide/indexing.html#returning-a-view-versus-a-copy\n",
      "  df[\"date\"]=df[\"date_added\"].dt.day\n"
     ]
    }
   ],
   "source": [
    "df[\"date\"]=df[\"date_added\"].dt.day"
   ]
  },
  {
   "cell_type": "code",
   "execution_count": 68,
   "id": "d8034c83-7d56-49cc-9af5-0dadb71c996f",
   "metadata": {},
   "outputs": [
    {
     "name": "stderr",
     "output_type": "stream",
     "text": [
      "C:\\Users\\vivek\\AppData\\Local\\Temp\\ipykernel_10724\\1967608466.py:1: SettingWithCopyWarning: \n",
      "A value is trying to be set on a copy of a slice from a DataFrame.\n",
      "Try using .loc[row_indexer,col_indexer] = value instead\n",
      "\n",
      "See the caveats in the documentation: https://pandas.pydata.org/pandas-docs/stable/user_guide/indexing.html#returning-a-view-versus-a-copy\n",
      "  df[\"genre\"]=df[\"listed_in\"].str.split(\",\").str[0]\n"
     ]
    }
   ],
   "source": [
    "df[\"genre\"]=df[\"listed_in\"].str.split(\",\").str[0]"
   ]
  },
  {
   "cell_type": "code",
   "execution_count": 70,
   "id": "cd13c493-78c5-42c4-9dd6-521a98022bcf",
   "metadata": {},
   "outputs": [
    {
     "data": {
      "text/plain": [
       "genre\n",
       "Dramas                    1600\n",
       "Comedies                  1210\n",
       "Action & Adventure         859\n",
       "Documentaries              829\n",
       "International TV Shows     774\n",
       "Name: count, dtype: int64"
      ]
     },
     "execution_count": 70,
     "metadata": {},
     "output_type": "execute_result"
    }
   ],
   "source": [
    "df[\"genre\"].value_counts().head(5)"
   ]
  },
  {
   "cell_type": "code",
   "execution_count": 73,
   "id": "ed168e22-14d9-443a-8e1e-3951bf8d512e",
   "metadata": {},
   "outputs": [],
   "source": [
    "df=df[df[\"cast\"]!=\"Not Mention\"]"
   ]
  },
  {
   "cell_type": "code",
   "execution_count": 74,
   "id": "0e071481-8c3b-4e4f-a7c8-00d788b909c8",
   "metadata": {},
   "outputs": [
    {
     "name": "stderr",
     "output_type": "stream",
     "text": [
      "C:\\Users\\vivek\\AppData\\Local\\Temp\\ipykernel_10724\\4151431803.py:1: SettingWithCopyWarning: \n",
      "A value is trying to be set on a copy of a slice from a DataFrame.\n",
      "Try using .loc[row_indexer,col_indexer] = value instead\n",
      "\n",
      "See the caveats in the documentation: https://pandas.pydata.org/pandas-docs/stable/user_guide/indexing.html#returning-a-view-versus-a-copy\n",
      "  df[\"lead_actor\"]=df[\"cast\"].str.split(\",\").str[0]\n"
     ]
    }
   ],
   "source": [
    "df[\"lead_actor\"]=df[\"cast\"].str.split(\",\").str[0]"
   ]
  },
  {
   "cell_type": "code",
   "execution_count": 75,
   "id": "87e1f8e7-e3b2-4ab9-acfd-3ba97932aee9",
   "metadata": {},
   "outputs": [
    {
     "data": {
      "text/plain": [
       "lead_actor\n",
       "Shah Rukh Khan        26\n",
       "Akshay Kumar          23\n",
       "Amitabh Bachchan      20\n",
       "David Attenborough    20\n",
       "Adam Sandler          20\n",
       "Name: count, dtype: int64"
      ]
     },
     "execution_count": 75,
     "metadata": {},
     "output_type": "execute_result"
    }
   ],
   "source": [
    "df[\"lead_actor\"].value_counts().head(5)"
   ]
  },
  {
   "cell_type": "code",
   "execution_count": 76,
   "id": "3ab0dcd3-7e63-47ed-8161-d4738b1768ad",
   "metadata": {},
   "outputs": [
    {
     "data": {
      "text/plain": [
       "<bound method NDFrame.sample of          type                             title  \\\n",
       "1     TV Show                     Blood & Water   \n",
       "2     TV Show                         Ganglands   \n",
       "4     TV Show                      Kota Factory   \n",
       "5     TV Show                     Midnight Mass   \n",
       "6       Movie  My Little Pony: A New Generation   \n",
       "...       ...                               ...   \n",
       "8801    Movie                           Zinzana   \n",
       "8802    Movie                            Zodiac   \n",
       "8804    Movie                        Zombieland   \n",
       "8805    Movie                              Zoom   \n",
       "8806    Movie                            Zubaan   \n",
       "\n",
       "                           director  \\\n",
       "1                       Not Mention   \n",
       "2                   Julien Leclercq   \n",
       "4                       Not Mention   \n",
       "5                     Mike Flanagan   \n",
       "6     Robert Cullen, José Luis Ucha   \n",
       "...                             ...   \n",
       "8801                Majid Al Ansari   \n",
       "8802                  David Fincher   \n",
       "8804                Ruben Fleischer   \n",
       "8805                   Peter Hewitt   \n",
       "8806                    Mozez Singh   \n",
       "\n",
       "                                                   cast  \\\n",
       "1     Ama Qamata, Khosi Ngema, Gail Mabalane, Thaban...   \n",
       "2     Sami Bouajila, Tracy Gotoas, Samuel Jouy, Nabi...   \n",
       "4     Mayur More, Jitendra Kumar, Ranjan Raj, Alam K...   \n",
       "5     Kate Siegel, Zach Gilford, Hamish Linklater, H...   \n",
       "6     Vanessa Hudgens, Kimiko Glenn, James Marsden, ...   \n",
       "...                                                 ...   \n",
       "8801  Ali Suliman, Saleh Bakri, Yasa, Ali Al-Jabri, ...   \n",
       "8802  Mark Ruffalo, Jake Gyllenhaal, Robert Downey J...   \n",
       "8804  Jesse Eisenberg, Woody Harrelson, Emma Stone, ...   \n",
       "8805  Tim Allen, Courteney Cox, Chevy Chase, Kate Ma...   \n",
       "8806  Vicky Kaushal, Sarah-Jane Dias, Raaghav Chanan...   \n",
       "\n",
       "                           country date_added  release_year rating   duration  \\\n",
       "1                     South Africa 2021-09-24          2021  TV-MA  2 Seasons   \n",
       "2                    United States 2021-09-24          2021  TV-MA   1 Season   \n",
       "4                            India 2021-09-24          2021  TV-MA  2 Seasons   \n",
       "5                    United States 2021-09-24          2021  TV-MA   1 Season   \n",
       "6                    United States 2021-09-24          2021     PG     91 min   \n",
       "...                            ...        ...           ...    ...        ...   \n",
       "8801  United Arab Emirates, Jordan 2016-03-09          2015  TV-MA     96 min   \n",
       "8802                 United States 2019-11-20          2007      R    158 min   \n",
       "8804                 United States 2019-11-01          2009      R     88 min   \n",
       "8805                 United States 2020-01-11          2006     PG     88 min   \n",
       "8806                         India 2019-03-02          2015  TV-14    111 min   \n",
       "\n",
       "                                              listed_in  year      month  \\\n",
       "1       International TV Shows, TV Dramas, TV Mysteries  2021  September   \n",
       "2     Crime TV Shows, International TV Shows, TV Act...  2021  September   \n",
       "4     International TV Shows, Romantic TV Shows, TV ...  2021  September   \n",
       "5                    TV Dramas, TV Horror, TV Mysteries  2021  September   \n",
       "6                              Children & Family Movies  2021  September   \n",
       "...                                                 ...   ...        ...   \n",
       "8801            Dramas, International Movies, Thrillers  2016      March   \n",
       "8802                     Cult Movies, Dramas, Thrillers  2019   November   \n",
       "8804                            Comedies, Horror Movies  2019   November   \n",
       "8805                 Children & Family Movies, Comedies  2020    January   \n",
       "8806     Dramas, International Movies, Music & Musicals  2019      March   \n",
       "\n",
       "      date                     genre       lead_actor  \n",
       "1       24    International TV Shows       Ama Qamata  \n",
       "2       24            Crime TV Shows    Sami Bouajila  \n",
       "4       24    International TV Shows       Mayur More  \n",
       "5       24                 TV Dramas      Kate Siegel  \n",
       "6       24  Children & Family Movies  Vanessa Hudgens  \n",
       "...    ...                       ...              ...  \n",
       "8801     9                    Dramas      Ali Suliman  \n",
       "8802    20               Cult Movies     Mark Ruffalo  \n",
       "8804     1                  Comedies  Jesse Eisenberg  \n",
       "8805    11  Children & Family Movies        Tim Allen  \n",
       "8806     2                    Dramas    Vicky Kaushal  \n",
       "\n",
       "[7979 rows x 15 columns]>"
      ]
     },
     "execution_count": 76,
     "metadata": {},
     "output_type": "execute_result"
    }
   ],
   "source": [
    "df.sample"
   ]
  },
  {
   "cell_type": "code",
   "execution_count": 77,
   "id": "2a41189c-e869-4f08-8abf-e0604908e5e4",
   "metadata": {},
   "outputs": [
    {
     "data": {
      "text/html": [
       "<div>\n",
       "<style scoped>\n",
       "    .dataframe tbody tr th:only-of-type {\n",
       "        vertical-align: middle;\n",
       "    }\n",
       "\n",
       "    .dataframe tbody tr th {\n",
       "        vertical-align: top;\n",
       "    }\n",
       "\n",
       "    .dataframe thead th {\n",
       "        text-align: right;\n",
       "    }\n",
       "</style>\n",
       "<table border=\"1\" class=\"dataframe\">\n",
       "  <thead>\n",
       "    <tr style=\"text-align: right;\">\n",
       "      <th></th>\n",
       "      <th>type</th>\n",
       "      <th>title</th>\n",
       "      <th>director</th>\n",
       "      <th>cast</th>\n",
       "      <th>country</th>\n",
       "      <th>date_added</th>\n",
       "      <th>release_year</th>\n",
       "      <th>rating</th>\n",
       "      <th>duration</th>\n",
       "      <th>listed_in</th>\n",
       "      <th>year</th>\n",
       "      <th>month</th>\n",
       "      <th>date</th>\n",
       "      <th>genre</th>\n",
       "      <th>lead_actor</th>\n",
       "    </tr>\n",
       "  </thead>\n",
       "  <tbody>\n",
       "    <tr>\n",
       "      <th>2047</th>\n",
       "      <td>TV Show</td>\n",
       "      <td>Spirit Riding Free: Riding Academy</td>\n",
       "      <td>Not Mention</td>\n",
       "      <td>Amber Frank, Bailey Gambertoglio, Sydney Park,...</td>\n",
       "      <td>United States</td>\n",
       "      <td>2020-09-04</td>\n",
       "      <td>2020</td>\n",
       "      <td>TV-Y7</td>\n",
       "      <td>2 Seasons</td>\n",
       "      <td>Kids' TV</td>\n",
       "      <td>2020</td>\n",
       "      <td>September</td>\n",
       "      <td>4</td>\n",
       "      <td>Kids' TV</td>\n",
       "      <td>Amber Frank</td>\n",
       "    </tr>\n",
       "    <tr>\n",
       "      <th>2641</th>\n",
       "      <td>TV Show</td>\n",
       "      <td>DreamWorks Spooky Stories: Volume 2</td>\n",
       "      <td>Not Mention</td>\n",
       "      <td>Seth Rogen, Will Arnett, Hugh Laurie, Will Fer...</td>\n",
       "      <td>United States</td>\n",
       "      <td>2020-04-24</td>\n",
       "      <td>2011</td>\n",
       "      <td>TV-PG</td>\n",
       "      <td>1 Season</td>\n",
       "      <td>Kids' TV, TV Comedies</td>\n",
       "      <td>2020</td>\n",
       "      <td>April</td>\n",
       "      <td>24</td>\n",
       "      <td>Kids' TV</td>\n",
       "      <td>Seth Rogen</td>\n",
       "    </tr>\n",
       "    <tr>\n",
       "      <th>5</th>\n",
       "      <td>TV Show</td>\n",
       "      <td>Midnight Mass</td>\n",
       "      <td>Mike Flanagan</td>\n",
       "      <td>Kate Siegel, Zach Gilford, Hamish Linklater, H...</td>\n",
       "      <td>United States</td>\n",
       "      <td>2021-09-24</td>\n",
       "      <td>2021</td>\n",
       "      <td>TV-MA</td>\n",
       "      <td>1 Season</td>\n",
       "      <td>TV Dramas, TV Horror, TV Mysteries</td>\n",
       "      <td>2021</td>\n",
       "      <td>September</td>\n",
       "      <td>24</td>\n",
       "      <td>TV Dramas</td>\n",
       "      <td>Kate Siegel</td>\n",
       "    </tr>\n",
       "    <tr>\n",
       "      <th>5873</th>\n",
       "      <td>Movie</td>\n",
       "      <td>Ip Man</td>\n",
       "      <td>Wilson Yip</td>\n",
       "      <td>Donnie Yen, Simon Yam, Louis Fan, Lam Ka Tung,...</td>\n",
       "      <td>Hong Kong, China</td>\n",
       "      <td>2016-01-15</td>\n",
       "      <td>2008</td>\n",
       "      <td>R</td>\n",
       "      <td>107 min</td>\n",
       "      <td>Action &amp; Adventure, Dramas, International Movies</td>\n",
       "      <td>2016</td>\n",
       "      <td>January</td>\n",
       "      <td>15</td>\n",
       "      <td>Action &amp; Adventure</td>\n",
       "      <td>Donnie Yen</td>\n",
       "    </tr>\n",
       "    <tr>\n",
       "      <th>7105</th>\n",
       "      <td>Movie</td>\n",
       "      <td>It's Now or Never</td>\n",
       "      <td>Maria Ripoll</td>\n",
       "      <td>Dani Rovira, María Valverde, Jordi Sánchez, Jo...</td>\n",
       "      <td>Spain</td>\n",
       "      <td>2016-03-01</td>\n",
       "      <td>2015</td>\n",
       "      <td>TV-MA</td>\n",
       "      <td>91 min</td>\n",
       "      <td>Comedies, International Movies, Romantic Movies</td>\n",
       "      <td>2016</td>\n",
       "      <td>March</td>\n",
       "      <td>1</td>\n",
       "      <td>Comedies</td>\n",
       "      <td>Dani Rovira</td>\n",
       "    </tr>\n",
       "  </tbody>\n",
       "</table>\n",
       "</div>"
      ],
      "text/plain": [
       "         type                                title       director  \\\n",
       "2047  TV Show   Spirit Riding Free: Riding Academy    Not Mention   \n",
       "2641  TV Show  DreamWorks Spooky Stories: Volume 2    Not Mention   \n",
       "5     TV Show                        Midnight Mass  Mike Flanagan   \n",
       "5873    Movie                               Ip Man     Wilson Yip   \n",
       "7105    Movie                    It's Now or Never   Maria Ripoll   \n",
       "\n",
       "                                                   cast           country  \\\n",
       "2047  Amber Frank, Bailey Gambertoglio, Sydney Park,...     United States   \n",
       "2641  Seth Rogen, Will Arnett, Hugh Laurie, Will Fer...     United States   \n",
       "5     Kate Siegel, Zach Gilford, Hamish Linklater, H...     United States   \n",
       "5873  Donnie Yen, Simon Yam, Louis Fan, Lam Ka Tung,...  Hong Kong, China   \n",
       "7105  Dani Rovira, María Valverde, Jordi Sánchez, Jo...             Spain   \n",
       "\n",
       "     date_added  release_year rating   duration  \\\n",
       "2047 2020-09-04          2020  TV-Y7  2 Seasons   \n",
       "2641 2020-04-24          2011  TV-PG   1 Season   \n",
       "5    2021-09-24          2021  TV-MA   1 Season   \n",
       "5873 2016-01-15          2008      R    107 min   \n",
       "7105 2016-03-01          2015  TV-MA     91 min   \n",
       "\n",
       "                                             listed_in  year      month  date  \\\n",
       "2047                                          Kids' TV  2020  September     4   \n",
       "2641                             Kids' TV, TV Comedies  2020      April    24   \n",
       "5                   TV Dramas, TV Horror, TV Mysteries  2021  September    24   \n",
       "5873  Action & Adventure, Dramas, International Movies  2016    January    15   \n",
       "7105   Comedies, International Movies, Romantic Movies  2016      March     1   \n",
       "\n",
       "                   genre   lead_actor  \n",
       "2047            Kids' TV  Amber Frank  \n",
       "2641            Kids' TV   Seth Rogen  \n",
       "5              TV Dramas  Kate Siegel  \n",
       "5873  Action & Adventure   Donnie Yen  \n",
       "7105            Comedies  Dani Rovira  "
      ]
     },
     "execution_count": 77,
     "metadata": {},
     "output_type": "execute_result"
    }
   ],
   "source": [
    "df.sample(5)"
   ]
  },
  {
   "cell_type": "code",
   "execution_count": 79,
   "id": "9e606db5-940d-42c7-b3dc-1fb225c22c1a",
   "metadata": {},
   "outputs": [
    {
     "name": "stderr",
     "output_type": "stream",
     "text": [
      "C:\\Users\\vivek\\AppData\\Local\\Temp\\ipykernel_10724\\1157090922.py:1: SettingWithCopyWarning: \n",
      "A value is trying to be set on a copy of a slice from a DataFrame\n",
      "\n",
      "See the caveats in the documentation: https://pandas.pydata.org/pandas-docs/stable/user_guide/indexing.html#returning-a-view-versus-a-copy\n",
      "  df.drop([\"date_added\",\"listed_in\",\"cast\"],axis=1, inplace=True)\n"
     ]
    }
   ],
   "source": [
    "df.drop([\"date_added\",\"listed_in\",\"cast\"],axis=1, inplace=True)"
   ]
  },
  {
   "cell_type": "code",
   "execution_count": 81,
   "id": "ba0c7694-336b-4c8c-bf66-81e34d506577",
   "metadata": {},
   "outputs": [
    {
     "data": {
      "text/html": [
       "<div>\n",
       "<style scoped>\n",
       "    .dataframe tbody tr th:only-of-type {\n",
       "        vertical-align: middle;\n",
       "    }\n",
       "\n",
       "    .dataframe tbody tr th {\n",
       "        vertical-align: top;\n",
       "    }\n",
       "\n",
       "    .dataframe thead th {\n",
       "        text-align: right;\n",
       "    }\n",
       "</style>\n",
       "<table border=\"1\" class=\"dataframe\">\n",
       "  <thead>\n",
       "    <tr style=\"text-align: right;\">\n",
       "      <th></th>\n",
       "      <th>type</th>\n",
       "      <th>title</th>\n",
       "      <th>director</th>\n",
       "      <th>country</th>\n",
       "      <th>release_year</th>\n",
       "      <th>rating</th>\n",
       "      <th>duration</th>\n",
       "      <th>year</th>\n",
       "      <th>month</th>\n",
       "      <th>date</th>\n",
       "      <th>genre</th>\n",
       "      <th>lead_actor</th>\n",
       "    </tr>\n",
       "  </thead>\n",
       "  <tbody>\n",
       "    <tr>\n",
       "      <th>7769</th>\n",
       "      <td>TV Show</td>\n",
       "      <td>Power Rangers Ninja Storm</td>\n",
       "      <td>Not Mention</td>\n",
       "      <td>United States, New Zealand</td>\n",
       "      <td>2003</td>\n",
       "      <td>TV-Y7</td>\n",
       "      <td>1 Season</td>\n",
       "      <td>2016</td>\n",
       "      <td>January</td>\n",
       "      <td>1</td>\n",
       "      <td>Kids' TV</td>\n",
       "      <td>Pua Magasiva</td>\n",
       "    </tr>\n",
       "    <tr>\n",
       "      <th>3286</th>\n",
       "      <td>TV Show</td>\n",
       "      <td>My Dear Warrior</td>\n",
       "      <td>Not Mention</td>\n",
       "      <td>Thailand</td>\n",
       "      <td>2019</td>\n",
       "      <td>TV-14</td>\n",
       "      <td>1 Season</td>\n",
       "      <td>2019</td>\n",
       "      <td>November</td>\n",
       "      <td>14</td>\n",
       "      <td>International TV Shows</td>\n",
       "      <td>Leo Putt</td>\n",
       "    </tr>\n",
       "    <tr>\n",
       "      <th>991</th>\n",
       "      <td>Movie</td>\n",
       "      <td>One Like It</td>\n",
       "      <td>Marwan Nabil</td>\n",
       "      <td>Egypt</td>\n",
       "      <td>2020</td>\n",
       "      <td>TV-G</td>\n",
       "      <td>15 min</td>\n",
       "      <td>2021</td>\n",
       "      <td>April</td>\n",
       "      <td>23</td>\n",
       "      <td>Dramas</td>\n",
       "      <td>Riham Abdel Ghafour</td>\n",
       "    </tr>\n",
       "    <tr>\n",
       "      <th>8731</th>\n",
       "      <td>Movie</td>\n",
       "      <td>While We're Young</td>\n",
       "      <td>Noah Baumbach</td>\n",
       "      <td>United States</td>\n",
       "      <td>2015</td>\n",
       "      <td>R</td>\n",
       "      <td>97 min</td>\n",
       "      <td>2017</td>\n",
       "      <td>October</td>\n",
       "      <td>23</td>\n",
       "      <td>Comedies</td>\n",
       "      <td>Ben Stiller</td>\n",
       "    </tr>\n",
       "    <tr>\n",
       "      <th>8691</th>\n",
       "      <td>Movie</td>\n",
       "      <td>Wakefield</td>\n",
       "      <td>Robin Swicord</td>\n",
       "      <td>United States</td>\n",
       "      <td>2016</td>\n",
       "      <td>R</td>\n",
       "      <td>109 min</td>\n",
       "      <td>2019</td>\n",
       "      <td>March</td>\n",
       "      <td>2</td>\n",
       "      <td>Dramas</td>\n",
       "      <td>Bryan Cranston</td>\n",
       "    </tr>\n",
       "  </tbody>\n",
       "</table>\n",
       "</div>"
      ],
      "text/plain": [
       "         type                      title       director  \\\n",
       "7769  TV Show  Power Rangers Ninja Storm    Not Mention   \n",
       "3286  TV Show            My Dear Warrior    Not Mention   \n",
       "991     Movie                One Like It   Marwan Nabil   \n",
       "8731    Movie          While We're Young  Noah Baumbach   \n",
       "8691    Movie                  Wakefield  Robin Swicord   \n",
       "\n",
       "                         country  release_year rating  duration  year  \\\n",
       "7769  United States, New Zealand          2003  TV-Y7  1 Season  2016   \n",
       "3286                    Thailand          2019  TV-14  1 Season  2019   \n",
       "991                        Egypt          2020   TV-G    15 min  2021   \n",
       "8731               United States          2015      R    97 min  2017   \n",
       "8691               United States          2016      R   109 min  2019   \n",
       "\n",
       "         month  date                   genre           lead_actor  \n",
       "7769   January     1                Kids' TV         Pua Magasiva  \n",
       "3286  November    14  International TV Shows             Leo Putt  \n",
       "991      April    23                  Dramas  Riham Abdel Ghafour  \n",
       "8731   October    23                Comedies          Ben Stiller  \n",
       "8691     March     2                  Dramas       Bryan Cranston  "
      ]
     },
     "execution_count": 81,
     "metadata": {},
     "output_type": "execute_result"
    }
   ],
   "source": [
    "df.sample(5)"
   ]
  },
  {
   "cell_type": "code",
   "execution_count": 82,
   "id": "77887da2-1791-48d8-b032-3c46a5a1ae24",
   "metadata": {},
   "outputs": [
    {
     "data": {
      "text/plain": [
       "Index(['type', 'title', 'director', 'country', 'release_year', 'rating',\n",
       "       'duration', 'year', 'month', 'date', 'genre', 'lead_actor'],\n",
       "      dtype='object')"
      ]
     },
     "execution_count": 82,
     "metadata": {},
     "output_type": "execute_result"
    }
   ],
   "source": [
    "df.columns"
   ]
  },
  {
   "cell_type": "code",
   "execution_count": 83,
   "id": "caca3d26-49fc-437f-bd05-5872e181821e",
   "metadata": {},
   "outputs": [],
   "source": [
    "df.to_csv(\"netflix_cleaned_data.csv\")"
   ]
  },
  {
   "cell_type": "code",
   "execution_count": null,
   "id": "2961d350-1de0-4d9a-ba68-45c227bd7320",
   "metadata": {},
   "outputs": [],
   "source": []
  }
 ],
 "metadata": {
  "kernelspec": {
   "display_name": "Python 3 (ipykernel)",
   "language": "python",
   "name": "python3"
  },
  "language_info": {
   "codemirror_mode": {
    "name": "ipython",
    "version": 3
   },
   "file_extension": ".py",
   "mimetype": "text/x-python",
   "name": "python",
   "nbconvert_exporter": "python",
   "pygments_lexer": "ipython3",
   "version": "3.12.6"
  }
 },
 "nbformat": 4,
 "nbformat_minor": 5
}
