{
 "cells": [
  {
   "cell_type": "code",
   "execution_count": 1,
   "id": "d011a938-561a-4478-b5cd-f3d69ff0f2ba",
   "metadata": {},
   "outputs": [],
   "source": [
    "# Importing Necessary Libraries\n",
    "import numpy as np\n",
    "import pandas as pd\n",
    "import matplotlib.pyplot as plt\n",
    "import seaborn as sns"
   ]
  },
  {
   "cell_type": "code",
   "execution_count": 9,
   "id": "7d8e8fa5-7906-422b-9995-ac41b20ac952",
   "metadata": {},
   "outputs": [],
   "source": [
    "# Reading CSV File\n",
    "df = pd.read_csv(\"netflix_titles.csv\")"
   ]
  },
  {
   "cell_type": "code",
   "execution_count": 12,
   "id": "1b3ee4e7-9de7-4731-b141-2a0d9c1d8ee1",
   "metadata": {},
   "outputs": [],
   "source": [
    "# Dropping description column\n",
    "df.drop([\"show_id\",\"description\"], axis=1, inplace=True)"
   ]
  },
  {
   "cell_type": "code",
   "execution_count": 13,
   "id": "7293b60e-a04f-456b-a4d1-4fa90239e41c",
   "metadata": {},
   "outputs": [
    {
     "data": {
      "text/plain": [
       "(8807, 10)"
      ]
     },
     "execution_count": 13,
     "metadata": {},
     "output_type": "execute_result"
    }
   ],
   "source": [
    "df.shape"
   ]
  },
  {
   "cell_type": "code",
   "execution_count": 14,
   "id": "049dcd07-c162-40c1-9d12-79f966815435",
   "metadata": {},
   "outputs": [
    {
     "data": {
      "text/plain": [
       "88070"
      ]
     },
     "execution_count": 14,
     "metadata": {},
     "output_type": "execute_result"
    }
   ],
   "source": [
    "df.size"
   ]
  },
  {
   "cell_type": "code",
   "execution_count": 15,
   "id": "1cf14456-5306-4888-ba46-3ce1e8648440",
   "metadata": {},
   "outputs": [
    {
     "data": {
      "text/plain": [
       "RangeIndex(start=0, stop=8807, step=1)"
      ]
     },
     "execution_count": 15,
     "metadata": {},
     "output_type": "execute_result"
    }
   ],
   "source": [
    "df.index"
   ]
  },
  {
   "cell_type": "code",
   "execution_count": 16,
   "id": "0671e5d5-22e4-471b-87a9-e9aa969ac471",
   "metadata": {},
   "outputs": [
    {
     "data": {
      "text/plain": [
       "Index(['type', 'title', 'director', 'cast', 'country', 'date_added',\n",
       "       'release_year', 'rating', 'duration', 'listed_in'],\n",
       "      dtype='object')"
      ]
     },
     "execution_count": 16,
     "metadata": {},
     "output_type": "execute_result"
    }
   ],
   "source": [
    "# Columns in the DataFrame\n",
    "df.columns"
   ]
  },
  {
   "cell_type": "code",
   "execution_count": 17,
   "id": "8dd19671-2485-42de-be95-4685ddbcbfd9",
   "metadata": {},
   "outputs": [
    {
     "name": "stdout",
     "output_type": "stream",
     "text": [
      "<class 'pandas.core.frame.DataFrame'>\n",
      "RangeIndex: 8807 entries, 0 to 8806\n",
      "Data columns (total 10 columns):\n",
      " #   Column        Non-Null Count  Dtype \n",
      "---  ------        --------------  ----- \n",
      " 0   type          8807 non-null   object\n",
      " 1   title         8807 non-null   object\n",
      " 2   director      6173 non-null   object\n",
      " 3   cast          7982 non-null   object\n",
      " 4   country       7976 non-null   object\n",
      " 5   date_added    8797 non-null   object\n",
      " 6   release_year  8807 non-null   int64 \n",
      " 7   rating        8803 non-null   object\n",
      " 8   duration      8804 non-null   object\n",
      " 9   listed_in     8807 non-null   object\n",
      "dtypes: int64(1), object(9)\n",
      "memory usage: 688.2+ KB\n"
     ]
    }
   ],
   "source": [
    "df.info()"
   ]
  },
  {
   "cell_type": "code",
   "execution_count": 18,
   "id": "0785a25c-2a83-4c66-97be-e8e0b84936bf",
   "metadata": {},
   "outputs": [
    {
     "data": {
      "text/plain": [
       "type               0\n",
       "title              0\n",
       "director        2634\n",
       "cast             825\n",
       "country          831\n",
       "date_added        10\n",
       "release_year       0\n",
       "rating             4\n",
       "duration           3\n",
       "listed_in          0\n",
       "dtype: int64"
      ]
     },
     "execution_count": 18,
     "metadata": {},
     "output_type": "execute_result"
    }
   ],
   "source": [
    "df.isna().sum()\n"
   ]
  },
  {
   "cell_type": "code",
   "execution_count": 19,
   "id": "6c1a6ab4-1b97-479e-b20a-cb66374fdbc1",
   "metadata": {},
   "outputs": [
    {
     "data": {
      "text/plain": [
       "country\n",
       "United States     2818\n",
       "India              972\n",
       "United Kingdom     419\n",
       "Name: count, dtype: int64"
      ]
     },
     "execution_count": 19,
     "metadata": {},
     "output_type": "execute_result"
    }
   ],
   "source": [
    "df[\"country\"].value_counts().head(3)"
   ]
  },
  {
   "cell_type": "code",
   "execution_count": 20,
   "id": "0b556fc9-891f-437b-92f6-48a1d12d85e0",
   "metadata": {},
   "outputs": [
    {
     "data": {
      "text/plain": [
       "'United States'"
      ]
     },
     "execution_count": 20,
     "metadata": {},
     "output_type": "execute_result"
    }
   ],
   "source": [
    "mode_country = df[\"country\"].mode()[0]\n",
    "mode_country"
   ]
  },
  {
   "cell_type": "code",
   "execution_count": 21,
   "id": "cd2aa1d3-848f-4b4a-a3e0-18acc35f4a52",
   "metadata": {},
   "outputs": [],
   "source": [
    "# Filling in the Null values with most frequent value\n",
    "df[\"country\"] = df[\"country\"].fillna(mode_country)"
   ]
  },
  {
   "cell_type": "code",
   "execution_count": 22,
   "id": "4a335784-0c3b-447e-829a-e8b235ab1573",
   "metadata": {},
   "outputs": [
    {
     "data": {
      "text/plain": [
       "0"
      ]
     },
     "execution_count": 22,
     "metadata": {},
     "output_type": "execute_result"
    }
   ],
   "source": [
    "df[\"country\"].isna().sum()"
   ]
  },
  {
   "cell_type": "code",
   "execution_count": 23,
   "id": "2b96bf60-4782-4f42-b9b7-6c8b9babdeec",
   "metadata": {},
   "outputs": [
    {
     "data": {
      "text/plain": [
       "date_added\n",
       "January 1, 2020     109\n",
       "November 1, 2019     89\n",
       "March 1, 2018        75\n",
       "Name: count, dtype: int64"
      ]
     },
     "execution_count": 23,
     "metadata": {},
     "output_type": "execute_result"
    }
   ],
   "source": [
    "df[\"date_added\"].value_counts().head(3)"
   ]
  },
  {
   "cell_type": "code",
   "execution_count": 24,
   "id": "6eb0598d-3a56-4dba-8bbe-0ea86f45f499",
   "metadata": {},
   "outputs": [
    {
     "data": {
      "text/plain": [
       "'January 1, 2020'"
      ]
     },
     "execution_count": 24,
     "metadata": {},
     "output_type": "execute_result"
    }
   ],
   "source": [
    "mode_date = df[\"date_added\"].mode()[0]\n",
    "mode_date"
   ]
  },
  {
   "cell_type": "code",
   "execution_count": 25,
   "id": "157b1c5a-4b3a-4a8e-ba5f-ae1c16016afa",
   "metadata": {},
   "outputs": [],
   "source": [
    "df[\"date_added\"] = df[\"date_added\"].fillna(mode_date)"
   ]
  },
  {
   "cell_type": "code",
   "execution_count": 26,
   "id": "10ed3b00-c0df-4696-8a85-141c800624c2",
   "metadata": {},
   "outputs": [
    {
     "data": {
      "text/plain": [
       "0"
      ]
     },
     "execution_count": 26,
     "metadata": {},
     "output_type": "execute_result"
    }
   ],
   "source": [
    "df[\"date_added\"].isna().sum()"
   ]
  },
  {
   "cell_type": "code",
   "execution_count": 27,
   "id": "56bb4687-da0a-4be5-b6bb-f60115354323",
   "metadata": {},
   "outputs": [
    {
     "data": {
      "text/plain": [
       "rating\n",
       "TV-MA    3207\n",
       "TV-14    2160\n",
       "TV-PG     863\n",
       "Name: count, dtype: int64"
      ]
     },
     "execution_count": 27,
     "metadata": {},
     "output_type": "execute_result"
    }
   ],
   "source": [
    "df[\"rating\"].value_counts().head(3)"
   ]
  },
  {
   "cell_type": "code",
   "execution_count": 28,
   "id": "5746eab4-fa3b-4c3f-9a45-6e87c5edf1b4",
   "metadata": {},
   "outputs": [
    {
     "data": {
      "text/plain": [
       "'TV-MA'"
      ]
     },
     "execution_count": 28,
     "metadata": {},
     "output_type": "execute_result"
    }
   ],
   "source": [
    "mode_rating = df[\"rating\"].mode()[0]\n",
    "mode_rating"
   ]
  },
  {
   "cell_type": "code",
   "execution_count": 29,
   "id": "1d27db31-4e1d-4e47-9357-8fbb1612a45f",
   "metadata": {},
   "outputs": [],
   "source": [
    "df[\"rating\"] = df[\"rating\"].fillna(mode_rating)"
   ]
  },
  {
   "cell_type": "code",
   "execution_count": 30,
   "id": "7a8d7361-67d5-4aa8-ac1a-9cb764fca3b9",
   "metadata": {},
   "outputs": [
    {
     "data": {
      "text/plain": [
       "0"
      ]
     },
     "execution_count": 30,
     "metadata": {},
     "output_type": "execute_result"
    }
   ],
   "source": [
    "df[\"rating\"].isna().sum()"
   ]
  },
  {
   "cell_type": "code",
   "execution_count": 34,
   "id": "f4b6b7e4-e54e-44bd-91dd-feed3f3ecb52",
   "metadata": {},
   "outputs": [
    {
     "data": {
      "text/plain": [
       "duration\n",
       "1 Season     1796\n",
       "2 Seasons     425\n",
       "3 Seasons     199\n",
       "Name: count, dtype: int64"
      ]
     },
     "execution_count": 34,
     "metadata": {},
     "output_type": "execute_result"
    }
   ],
   "source": [
    "# Count of unique values in the duration column\n",
    "df[\"duration\"].value_counts().head(3)"
   ]
  },
  {
   "cell_type": "code",
   "execution_count": 31,
   "id": "43f9458d-a2b1-408c-8cd0-742f53d106cd",
   "metadata": {},
   "outputs": [
    {
     "data": {
      "text/plain": [
       "'1 Season'"
      ]
     },
     "execution_count": 31,
     "metadata": {},
     "output_type": "execute_result"
    }
   ],
   "source": [
    "mode_duration = df[\"duration\"].mode()[0]\n",
    "mode_duration"
   ]
  },
  {
   "cell_type": "code",
   "execution_count": 32,
   "id": "1bf386f5-c2b4-408e-b782-c2548f7f1504",
   "metadata": {},
   "outputs": [],
   "source": [
    "# Filling in the Null values with most frequent value\n",
    "df[\"duration\"] = df[\"duration\"].fillna(mode_duration)"
   ]
  },
  {
   "cell_type": "code",
   "execution_count": 33,
   "id": "269eba61-216e-4e03-b7e2-82ab0e03cb8d",
   "metadata": {},
   "outputs": [
    {
     "data": {
      "text/plain": [
       "0"
      ]
     },
     "execution_count": 33,
     "metadata": {},
     "output_type": "execute_result"
    }
   ],
   "source": [
    "df[\"duration\"].isna().sum()"
   ]
  },
  {
   "cell_type": "code",
   "execution_count": 35,
   "id": "82b74c0e-ed96-4772-af4b-c56012a4cd19",
   "metadata": {},
   "outputs": [],
   "source": [
    "df[\"director\"] = df[\"director\"].fillna(\"Not Mentioned\")"
   ]
  },
  {
   "cell_type": "code",
   "execution_count": 36,
   "id": "f0a78358-0052-4592-8aba-f6623c722ca8",
   "metadata": {},
   "outputs": [
    {
     "data": {
      "text/plain": [
       "0"
      ]
     },
     "execution_count": 36,
     "metadata": {},
     "output_type": "execute_result"
    }
   ],
   "source": [
    "df[\"director\"].isna().sum()"
   ]
  },
  {
   "cell_type": "code",
   "execution_count": 37,
   "id": "625db293-efc3-4d4f-ae0d-ff92a473ea19",
   "metadata": {},
   "outputs": [],
   "source": [
    "df[\"cast\"] = df[\"cast\"].fillna(\"Not Mentioned\")"
   ]
  },
  {
   "cell_type": "code",
   "execution_count": 38,
   "id": "ff9afe12-35bb-480c-9906-92987ce47d94",
   "metadata": {},
   "outputs": [
    {
     "data": {
      "text/plain": [
       "0"
      ]
     },
     "execution_count": 38,
     "metadata": {},
     "output_type": "execute_result"
    }
   ],
   "source": [
    "df[\"cast\"].isna().sum()"
   ]
  },
  {
   "cell_type": "code",
   "execution_count": 39,
   "id": "b5b3e0ec-b4de-4688-9072-9ed70ee99b97",
   "metadata": {},
   "outputs": [
    {
     "data": {
      "text/plain": [
       "array(['PG-13', 'TV-MA', 'PG', 'TV-14', 'TV-PG', 'TV-Y', 'TV-Y7', 'R',\n",
       "       'TV-G', 'G', 'NC-17', '74 min', '84 min', '66 min', 'NR',\n",
       "       'TV-Y7-FV', 'UR'], dtype=object)"
      ]
     },
     "execution_count": 39,
     "metadata": {},
     "output_type": "execute_result"
    }
   ],
   "source": [
    "df[\"rating\"].unique()"
   ]
  },
  {
   "cell_type": "code",
   "execution_count": 40,
   "id": "8688a8fe-af63-4ab7-b565-cfaa63058ace",
   "metadata": {},
   "outputs": [],
   "source": [
    "df = df[~df[\"rating\"].str.contains(\"min\")]"
   ]
  },
  {
   "cell_type": "code",
   "execution_count": 41,
   "id": "8f107071-e1f0-44d8-af0c-28816c4fb195",
   "metadata": {},
   "outputs": [
    {
     "data": {
      "text/plain": [
       "array(['PG-13', 'TV-MA', 'PG', 'TV-14', 'TV-PG', 'TV-Y', 'TV-Y7', 'R',\n",
       "       'TV-G', 'G', 'NC-17', 'NR', 'TV-Y7-FV', 'UR'], dtype=object)"
      ]
     },
     "execution_count": 41,
     "metadata": {},
     "output_type": "execute_result"
    }
   ],
   "source": [
    "df[\"rating\"].unique()"
   ]
  },
  {
   "cell_type": "code",
   "execution_count": 42,
   "id": "e9de1eec-2d6a-427f-ad83-9e07ad3f3306",
   "metadata": {},
   "outputs": [],
   "source": [
    "df[\"date_added\"] = df[\"date_added\"].str.replace(\",\",\"\")"
   ]
  },
  {
   "cell_type": "code",
   "execution_count": 43,
   "id": "bc81e840-3daf-4dda-91f5-edc48864c712",
   "metadata": {},
   "outputs": [],
   "source": [
    "df[\"date_added\"] = pd.to_datetime(df[\"date_added\"], format=\"mixed\")"
   ]
  },
  {
   "cell_type": "code",
   "execution_count": 44,
   "id": "1e62981e-3316-4e1b-b990-19f91529cfef",
   "metadata": {},
   "outputs": [],
   "source": [
    "# Extracting Year from date_added column\n",
    "df[\"year\"] = df[\"date_added\"].dt.year"
   ]
  },
  {
   "cell_type": "code",
   "execution_count": 45,
   "id": "84ea9475-754b-4b96-9b35-ec7efe5ce2b9",
   "metadata": {},
   "outputs": [],
   "source": [
    "# Extracting Month Names from date_added column\n",
    "df[\"month\"] = df[\"date_added\"].dt.month_name()"
   ]
  },
  {
   "cell_type": "code",
   "execution_count": 46,
   "id": "e8dc10c0-9e6e-4495-965d-cccf38457a67",
   "metadata": {},
   "outputs": [],
   "source": [
    "# Extracting Date from date_added column\n",
    "df[\"date\"] = df[\"date_added\"].dt.day"
   ]
  },
  {
   "cell_type": "code",
   "execution_count": 47,
   "id": "92b3837e-c639-4648-9d7d-3a9eae566132",
   "metadata": {},
   "outputs": [],
   "source": [
    "df[\"genre\"] = df[\"listed_in\"].str.split(\",\").str[0]"
   ]
  },
  {
   "cell_type": "code",
   "execution_count": 48,
   "id": "6ad002e8-bd0a-4022-bdb4-53c43f3dbdb1",
   "metadata": {},
   "outputs": [
    {
     "data": {
      "text/plain": [
       "genre\n",
       "Dramas                    1600\n",
       "Comedies                  1210\n",
       "Action & Adventure         859\n",
       "Documentaries              829\n",
       "International TV Shows     774\n",
       "Name: count, dtype: int64"
      ]
     },
     "execution_count": 48,
     "metadata": {},
     "output_type": "execute_result"
    }
   ],
   "source": [
    "df[\"genre\"].value_counts().head(5)"
   ]
  },
  {
   "cell_type": "code",
   "execution_count": 49,
   "id": "f8458d15-cf48-4d2e-847c-a6c8136ba2c2",
   "metadata": {},
   "outputs": [],
   "source": [
    "df = df[df[\"cast\"]!=\"Not Mentioned\"]"
   ]
  },
  {
   "cell_type": "code",
   "execution_count": 50,
   "id": "49e5031d-9546-4502-bfa8-efdbeb4a4a5f",
   "metadata": {},
   "outputs": [],
   "source": [
    "df[\"lead_actor\"] = df[\"cast\"].str.split(\",\").str[0]"
   ]
  },
  {
   "cell_type": "code",
   "execution_count": 51,
   "id": "dacda1ac-0301-426d-80f5-8fcff3d7f167",
   "metadata": {},
   "outputs": [
    {
     "data": {
      "text/plain": [
       "lead_actor\n",
       "Shah Rukh Khan        26\n",
       "Akshay Kumar          23\n",
       "David Attenborough    20\n",
       "Adam Sandler          20\n",
       "Amitabh Bachchan      20\n",
       "Name: count, dtype: int64"
      ]
     },
     "execution_count": 51,
     "metadata": {},
     "output_type": "execute_result"
    }
   ],
   "source": [
    "df[\"lead_actor\"].value_counts().head(5)"
   ]
  },
  {
   "cell_type": "code",
   "execution_count": 52,
   "id": "caae2f1a-d12b-4db3-a245-aed1f155bcfe",
   "metadata": {},
   "outputs": [],
   "source": [
    "# Dropping date_added, listed_in and cast column\n",
    "df.drop([\"date_added\",\"listed_in\",\"cast\"], axis=1, inplace=True)"
   ]
  },
  {
   "cell_type": "code",
   "execution_count": 53,
   "id": "c4c8d03e-e9c6-4c97-802c-49a7659a979c",
   "metadata": {},
   "outputs": [
    {
     "data": {
      "text/plain": [
       "<bound method NDFrame.sample of          type                             title  \\\n",
       "1     TV Show                     Blood & Water   \n",
       "2     TV Show                         Ganglands   \n",
       "4     TV Show                      Kota Factory   \n",
       "5     TV Show                     Midnight Mass   \n",
       "6       Movie  My Little Pony: A New Generation   \n",
       "...       ...                               ...   \n",
       "8801    Movie                           Zinzana   \n",
       "8802    Movie                            Zodiac   \n",
       "8804    Movie                        Zombieland   \n",
       "8805    Movie                              Zoom   \n",
       "8806    Movie                            Zubaan   \n",
       "\n",
       "                           director                       country  \\\n",
       "1                     Not Mentioned                  South Africa   \n",
       "2                   Julien Leclercq                 United States   \n",
       "4                     Not Mentioned                         India   \n",
       "5                     Mike Flanagan                 United States   \n",
       "6     Robert Cullen, José Luis Ucha                 United States   \n",
       "...                             ...                           ...   \n",
       "8801                Majid Al Ansari  United Arab Emirates, Jordan   \n",
       "8802                  David Fincher                 United States   \n",
       "8804                Ruben Fleischer                 United States   \n",
       "8805                   Peter Hewitt                 United States   \n",
       "8806                    Mozez Singh                         India   \n",
       "\n",
       "      release_year rating   duration  year      month  date  \\\n",
       "1             2021  TV-MA  2 Seasons  2021  September    24   \n",
       "2             2021  TV-MA   1 Season  2021  September    24   \n",
       "4             2021  TV-MA  2 Seasons  2021  September    24   \n",
       "5             2021  TV-MA   1 Season  2021  September    24   \n",
       "6             2021     PG     91 min  2021  September    24   \n",
       "...            ...    ...        ...   ...        ...   ...   \n",
       "8801          2015  TV-MA     96 min  2016      March     9   \n",
       "8802          2007      R    158 min  2019   November    20   \n",
       "8804          2009      R     88 min  2019   November     1   \n",
       "8805          2006     PG     88 min  2020    January    11   \n",
       "8806          2015  TV-14    111 min  2019      March     2   \n",
       "\n",
       "                         genre       lead_actor  \n",
       "1       International TV Shows       Ama Qamata  \n",
       "2               Crime TV Shows    Sami Bouajila  \n",
       "4       International TV Shows       Mayur More  \n",
       "5                    TV Dramas      Kate Siegel  \n",
       "6     Children & Family Movies  Vanessa Hudgens  \n",
       "...                        ...              ...  \n",
       "8801                    Dramas      Ali Suliman  \n",
       "8802               Cult Movies     Mark Ruffalo  \n",
       "8804                  Comedies  Jesse Eisenberg  \n",
       "8805  Children & Family Movies        Tim Allen  \n",
       "8806                    Dramas    Vicky Kaushal  \n",
       "\n",
       "[7979 rows x 12 columns]>"
      ]
     },
     "execution_count": 53,
     "metadata": {},
     "output_type": "execute_result"
    }
   ],
   "source": [
    "df.sample"
   ]
  },
  {
   "cell_type": "code",
   "execution_count": 56,
   "id": "ffe24962-4e71-4519-ac2b-5ee279942f01",
   "metadata": {},
   "outputs": [
    {
     "data": {
      "text/plain": [
       "Index(['type', 'title', 'director', 'country', 'release_year', 'rating',\n",
       "       'duration', 'year', 'month', 'date', 'genre', 'lead_actor'],\n",
       "      dtype='object')"
      ]
     },
     "execution_count": 56,
     "metadata": {},
     "output_type": "execute_result"
    }
   ],
   "source": [
    "df.columns"
   ]
  },
  {
   "cell_type": "code",
   "execution_count": 55,
   "id": "97961b3c-7841-4805-90a5-e7e3f7fe66bd",
   "metadata": {},
   "outputs": [],
   "source": [
    "df.to_csv(\"cleaned_data.csv\")"
   ]
  },
  {
   "cell_type": "code",
   "execution_count": null,
   "id": "ef21439a-e4ee-41c8-9871-c0033da61c40",
   "metadata": {},
   "outputs": [],
   "source": []
  }
 ],
 "metadata": {
  "kernelspec": {
   "display_name": "Python 3 (ipykernel)",
   "language": "python",
   "name": "python3"
  },
  "language_info": {
   "codemirror_mode": {
    "name": "ipython",
    "version": 3
   },
   "file_extension": ".py",
   "mimetype": "text/x-python",
   "name": "python",
   "nbconvert_exporter": "python",
   "pygments_lexer": "ipython3",
   "version": "3.12.6"
  }
 },
 "nbformat": 4,
 "nbformat_minor": 5
}
